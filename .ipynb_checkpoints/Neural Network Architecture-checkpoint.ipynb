{
 "cells": [
  {
   "cell_type": "markdown",
   "metadata": {},
   "source": [
    "# Basic Neural Network in Python\n",
    "\n",
    "Below, I explore how to create and train a three-layer neural network in Python, making use of the NumPy linear algebra library. I've broken my code into the following sections:\n",
    "\n",
    "- __Activation Function__\n",
    "- __Training Data__\n",
    "- __Defining Alpha and Size of Hidden Layer__\n",
    "- __Weights__\n",
    "- __Training__"
   ]
  },
  {
   "cell_type": "markdown",
   "metadata": {},
   "source": [
    "## Activation Function\n",
    "\n",
    "First, we import `numpy` to be able to perform linear algebra operations. Then, we define the logistic function (sigmoid curve), which is key to creating non-linear hypotheses from our data. The logistic function is:"
   ]
  },
  {
   "cell_type": "markdown",
   "metadata": {},
   "source": [
    "![Logistic Function Equation](logistic-formula.gif)"
   ]
  },
  {
   "cell_type": "code",
   "execution_count": 1,
   "metadata": {
    "collapsed": true
   },
   "outputs": [],
   "source": [
    "import numpy as np # Linear algebra library\n",
    "import matplotlib.pyplot as plt # Charting library\n",
    "\n",
    "# Defining the logistic function (sigmoid curve)\n",
    "# This is our activation function\n",
    "def sigmoid(x, derive=False):\n",
    "    if(derive==True):\n",
    "        return x*(1-x)\n",
    "    return 1/(1+np.exp(-x))"
   ]
  },
  {
   "cell_type": "markdown",
   "metadata": {},
   "source": [
    "The logistic function converts any number to a value between 0 and 1, which can be used as probabilities to train our neural network. We can also use this method to retrieve the derivative of the logistic function, which is useful for the backpropagation process in the neural network."
   ]
  },
  {
   "cell_type": "markdown",
   "metadata": {},
   "source": [
    "## Training Data\n",
    "\n",
    "Next, we'll set up our training data. For training inputs, we have a matrix of four rows and three columns. For training outputs, we have a matrix of four rows and a single column."
   ]
  },
  {
   "cell_type": "code",
   "execution_count": 2,
   "metadata": {
    "collapsed": false
   },
   "outputs": [],
   "source": [
    "# Training input data\n",
    "x = np.array([[0,0,1],\n",
    "              [0,1,1],\n",
    "              [1,0,1],\n",
    "              [1,1,1]])\n",
    "\n",
    "# Training output data\n",
    "y = np.array([[0],[1],[1],[0]])"
   ]
  },
  {
   "cell_type": "markdown",
   "metadata": {},
   "source": [
    "## Define Alpha and Size of Hidden Layer\n",
    "\n",
    "The alpha parameter allows us to use gradient descent to modify the size of updates made to the weights. As you'll see in the output of the training process, using the right alpha parameter allows us to optimize our weights so that we achieve results that better fit our data.\n",
    "\n",
    "Parametrizing the size of the hidden layer allows us to increase the search space of our neural network, and converge to a global minimum faster."
   ]
  },
  {
   "cell_type": "code",
   "execution_count": 3,
   "metadata": {
    "collapsed": true
   },
   "outputs": [],
   "source": [
    "# Alpha parameter for gradient descent\n",
    "alpha = 10\n",
    "\n",
    "# Parametrized size of hidden layer\n",
    "hiddenSize = 32"
   ]
  },
  {
   "cell_type": "markdown",
   "metadata": {},
   "source": [
    "\n",
    "## Weights\n",
    "\n",
    "We need to initialize random weights for our neural network. We only have three layers in this neural network (input, a single hidden layer and output). The first layer has three input units, and the third layer has a single output unit. Since we want to connect every node in the first layer to every node in the second layer, we need a matrix of three rows and a number of columns which matches the number of rows in our hidden layer. Our hidden layer only needs a single column to connect to our output layer.\n"
   ]
  },
  {
   "cell_type": "code",
   "execution_count": 4,
   "metadata": {
    "collapsed": true
   },
   "outputs": [],
   "source": [
    "# WEIGHTS\n",
    "# Seeding our random number generation\n",
    "np.random.seed(1)\n",
    "    \n",
    "# Initialize weights randomly\n",
    "# Best practice is to initialize weights with a mean of 0\n",
    "weights_1 = 2*np.random.random((3,hiddenSize))-1\n",
    "weights_2 = 2*np.random.random((hiddenSize,1))-1"
   ]
  },
  {
   "cell_type": "markdown",
   "metadata": {},
   "source": [
    "## Training\n",
    "\n",
    "In this for-loop, we are performing simultaneous training of our neural network across all examples (4) that we loaded earlier into the variable X. \n",
    "\n",
    "The first step of the training process involves attempting prediction of output, given our training example inputs. \n",
    "\n",
    "Then we compare our prediction of output to the actual training example output. The adjustment process involves multiplying these error vales by the slope of the logistic function at our prediction values. Take a look at a sample chart of a logistic function below:\n"
   ]
  },
  {
   "cell_type": "code",
   "execution_count": 5,
   "metadata": {
    "collapsed": false
   },
   "outputs": [
    {
     "data": {
      "image/png": "[encoded data removed]",
      "text/plain": [
       "<matplotlib.figure.Figure at 0x11799f780>"
      ]
     },
     "metadata": {},
     "output_type": "display_data"
    }
   ],
   "source": [
    "demo_values = np.arange(-10., 10., 0.2)\n",
    "logistic_values = []\n",
    "for item in demo_values:\n",
    "    logistic_values.append(1/(1+np.exp(-item)))\n",
    "plt.plot(demo_values,logistic_values)\n",
    "plt.show()\n"
   ]
  },
  {
   "cell_type": "markdown",
   "metadata": {},
   "source": [
    "If our predictions are more confident, they will be at either the lower or higher end of the logistic curve. This means that our adjustments will be smaller, because we are incrementing weights by a number which is the result of multiplying the error value by the slope of the logistic curve at the point of our prediction. \n",
    "\n",
    "The slope of the logistic curve is closer to zero at both the lower and higher ends. There is likely to be a __small__ amount of error for high confidence predictions, so they only need to be adjusted by a __small__ amount.\n",
    "\n",
    "However, if our predictions are less confident, they will be closer to the center of the logistic curve, where the slope reaches its maximum value of 1. Therefore, we will make __greater__ adjustments when our model is __more unsure__ about the predictions it makes."
   ]
  },
  {
   "cell_type": "code",
   "execution_count": 6,
   "metadata": {
    "collapsed": false
   },
   "outputs": [
    {
     "name": "stdout",
     "output_type": "stream",
     "text": [
      "\n",
      "Training with Alpha:10\n",
      "Error after 0 iterations: 0.496439922501\n",
      "Error after 10000 iterations: 0.00225627779723\n",
      "Error after 20000 iterations: 0.00153822414655\n",
      "Error after 30000 iterations: 0.00123497929352\n",
      "Error after 40000 iterations: 0.00105841214612\n",
      "Error after 50000 iterations: 0.000939718817582\n"
     ]
    }
   ],
   "source": [
    "print (\"\\nTraining with Alpha:\" + str(alpha))\n",
    "       \n",
    "for iter in range(60000):\n",
    "    \n",
    "    # FORWARD PROPAGATION\n",
    "    \n",
    "    # Set first layer of neural network equal to our training input data\n",
    "    l0 = x\n",
    "    \n",
    "    # Applying the logistic function to the result of \n",
    "    # the dot product between the first layer of the neural network and the weights\n",
    "    l1 = sigmoid(np.dot(l0, weights_1)) \n",
    "    \n",
    "    # Applying the logisitic function to the result of\n",
    "    # the dot product again for the second layer of the neural network and the weights\n",
    "    l2 = sigmoid(np.dot(l1, weights_2))\n",
    "    \n",
    "    # ERROR CALCULATION/BACKPROPAGATION\n",
    "    \n",
    "    # By subtracting our hypothesis from the training output example\n",
    "    # we get an error calculation: y - h(x) (familiar from cost function)\n",
    "    l2_error = y - l2\n",
    "    \n",
    "    if (iter% 10000) == 0:\n",
    "        print (\"Error after \" + str(iter) + \" iterations: \"+ str(np.mean(np.abs(l2_error))))\n",
    "    \n",
    "    # Multiplying the error amount by the slope of the logistic function\n",
    "    # at our second layer values, gives us a delta value we can use to update\n",
    "    # our weights\n",
    "    l2_delta = l2_error * sigmoid(l2, derive=True)\n",
    "    \n",
    "    # We can only calculate error values for our first layer once we have\n",
    "    # already calculated error for the second layer. Here, we're calculating\n",
    "    # how much each value in the first layer contributes to error in the second layer\n",
    "    l1_error = np.dot(l2_delta, weights_2.T)\n",
    "    \n",
    "    # Once again, we'll update the error using the slope of the logistic function\n",
    "    # at our first layer values - to make sure we are updating \"in the right direction\"\n",
    "    l1_delta = l1_error * sigmoid(l1, derive=True)\n",
    "    \n",
    "    # UPDATE WEIGHTS\n",
    "    \n",
    "    # Increment weight values by the result of the dot product \n",
    "    # between our layer values and backpropagation delta values\n",
    "    # Scale our increments by alpha (gradient descent)\n",
    "    weights_2 += alpha * np.dot(l1.T, l2_delta)\n",
    "    weights_1 += alpha * np.dot(l0.T, l1_delta)"
   ]
  },
  {
   "cell_type": "code",
   "execution_count": null,
   "metadata": {
    "collapsed": true
   },
   "outputs": [],
   "source": []
  }
 ],
 "metadata": {
  "kernelspec": {
   "display_name": "Python 3",
   "language": "python",
   "name": "python3"
  },
  "language_info": {
   "codemirror_mode": {
    "name": "ipython",
    "version": 3
   },
   "file_extension": ".py",
   "mimetype": "text/x-python",
   "name": "python",
   "nbconvert_exporter": "python",
   "pygments_lexer": "ipython3",
   "version": "3.6.0"
  }
 },
 "nbformat": 4,
 "nbformat_minor": 2
}
